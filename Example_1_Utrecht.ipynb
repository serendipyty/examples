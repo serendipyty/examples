{
 "cells": [
  {
   "cell_type": "markdown",
   "metadata": {
    "code_folding": []
   },
   "source": [
    "# Utrecht"
   ]
  },
  {
   "cell_type": "code",
   "execution_count": 1,
   "metadata": {
    "collapsed": true
   },
   "outputs": [],
   "source": [
    "%matplotlib inline\n",
    "%load_ext autoreload\n",
    "%autoreload 2\n",
    "#%matplotlib notebook\n",
    "\n",
    "import numpy as np\n",
    "import matplotlib.pyplot as plt\n",
    "from matplotlib import gridspec\n",
    "from timeit import default_timer as timer\n",
    "\n",
    "import scipy.io\n",
    "\n",
    "from serendipyty.seismic.modelling import awe2d\n",
    "from serendipyty.seismic.modelling.bcs import PmlBc\n",
    "\n",
    "from serendipyty.seismic.utils.util import ricker\n",
    "from serendipyty.seismic.utils.fd import stability\n",
    "from serendipyty.seismic.utils.fd import dispersion\n",
    "from serendipyty.seismic.utils.util import rectangle\n",
    "from serendipyty.seismic.utils.util import oneface\n",
    "\n",
    "from serendipyty.seismic.utils.dispersion import itdt3\n",
    "from serendipyty.seismic.input.wavelets import RickerWavelet\n",
    "from serendipyty.seismic.input.sources import PointSource\n",
    "from serendipyty.seismic.model.models import AcousticModel\n",
    "from serendipyty.seismic.hpc.hpc import BaseHpc\n",
    "\n",
    "from joblib import Parallel, delayed\n",
    "import multiprocessing\n",
    "\n",
    "import sys\n",
    "\n",
    "#sys.dont_write_bytecode = True\n",
    "\n",
    "DTYPE = np.float64\n",
    "\n",
    "#if __name__ == '__main__':\n",
    "\n",
    "import matplotlib as mpl\n",
    "#mpl.rc('image', interpolation='none', origin='lower', cmap = 'gray')\n",
    "mpl.rc('image', interpolation='none')\n",
    "plt.rcParams['figure.figsize'] = 10, 8\n",
    "#plt.rcParams['figure.figsize'] = 45, 30\n",
    "plt.rcParams['font.size'] = 14"
   ]
  },
  {
   "cell_type": "code",
   "execution_count": null,
   "metadata": {
    "collapsed": true
   },
   "outputs": [],
   "source": []
  },
  {
   "cell_type": "markdown",
   "metadata": {},
   "source": [
    "## Parameters"
   ]
  },
  {
   "cell_type": "code",
   "execution_count": 2,
   "metadata": {
    "collapsed": true
   },
   "outputs": [],
   "source": [
    "# Extent in # of cells\n",
    "nx = 201\n",
    "nz = 101\n",
    "\n",
    "# Sampling in m\n",
    "dx = DTYPE(5)\n",
    "dz = DTYPE(5)\n",
    "\n",
    "# Source in grid point locations\n",
    "src_loc = np.array([600/dx, 0, 250/dx], dtype=np.uint)\n",
    "\n",
    "# Source\n",
    "sourcetype = 'q'\n",
    "# Central frequency\n",
    "fc = np.float64(30)\n",
    "\n",
    "# PML\n",
    "npml = 30\n",
    "\n",
    "bc = PmlBc(npml=npml, freesurface=False)"
   ]
  },
  {
   "cell_type": "markdown",
   "metadata": {},
   "source": [
    "## Model building"
   ]
  },
  {
   "cell_type": "code",
   "execution_count": 3,
   "metadata": {},
   "outputs": [
    {
     "data": {
      "image/png": "[encoded data removed]",
      "text/plain": [
       "<matplotlib.figure.Figure at 0x2ac21cd44860>"
      ]
     },
     "metadata": {},
     "output_type": "display_data"
    }
   ],
   "source": [
    "vp0 = 2000\n",
    "rho0 = 1000\n",
    "\n",
    "vp = np.ones((nx, nz), dtype=DTYPE)*vp0\n",
    "rho = np.ones((nx, nz), dtype=DTYPE)*rho0\n",
    "\n",
    "x = np.arange(nx)*dx\n",
    "z = np.arange(nz)*dz\n",
    "\n",
    "dip = 0.1\n",
    "\n",
    "inta = (-dip)*x + 150.0\n",
    "\n",
    "mask = np.zeros((nx,nz), dtype=np.bool)\n",
    "for i in range(nx):\n",
    "    mask[i, np.rint(inta[i]/dx).astype(int):] = True\n",
    "\n",
    "vp[mask] = 2500\n",
    "rho[mask] = 1500\n",
    "\n",
    "intb = 350\n",
    "vp[:,np.rint(intb/dx).astype(int):] = 2300\n",
    "rho[:,np.rint(intb/dx).astype(int):] = 1300\n",
    "\n",
    "fig = plt.figure(facecolor='w', edgecolor='k') #, figsize=(10,12))\n",
    "plt.imshow(rho.T) #, extent=[0, x[-1], z[-1], 0])\n",
    "plt.colorbar()\n",
    "\n",
    "model = AcousticModel(dx, vp=vp, rho=rho)"
   ]
  },
  {
   "cell_type": "code",
   "execution_count": 4,
   "metadata": {},
   "outputs": [
    {
     "data": {
      "text/plain": [
       "[201, 1, 101]"
      ]
     },
     "execution_count": 4,
     "metadata": {},
     "output_type": "execute_result"
    }
   ],
   "source": [
    "model.n"
   ]
  },
  {
   "cell_type": "markdown",
   "metadata": {},
   "source": [
    "## Dispersion and Stability"
   ]
  },
  {
   "cell_type": "code",
   "execution_count": 5,
   "metadata": {},
   "outputs": [
    {
     "name": "stdout",
     "output_type": "stream",
     "text": [
      "dx_no_dispresion is  5.55555555556\n",
      "dt_stable is  0.00141421356237\n"
     ]
    }
   ],
   "source": [
    "dx_no_dispersion = dispersion(vp.min(), dx, fc, coeff=2.0)\n",
    "print('dx_no_dispresion is ', dx_no_dispersion)\n",
    "\n",
    "# Time\n",
    "tmax = 10.42\n",
    "dt = np.float64(0.001)\n",
    "\n",
    "# I compute the stability criterion\n",
    "dt_stable = stability(vp.max(), dx, dt)\n",
    "print('dt_stable is ', dt_stable)\n",
    "\n",
    "# For this example, I keep dt (and nt) fixed\n",
    "#dt = dt_stable\n",
    "nt = int(tmax/dt)+1\n",
    "\n",
    "t = np.arange(nt)*dt"
   ]
  },
  {
   "cell_type": "markdown",
   "metadata": {},
   "source": [
    "## Source wavelet"
   ]
  },
  {
   "cell_type": "code",
   "execution_count": 6,
   "metadata": {},
   "outputs": [
    {
     "data": {
      "text/plain": [
       "[<matplotlib.lines.Line2D at 0x2ac21f7eb240>]"
      ]
     },
     "execution_count": 6,
     "metadata": {},
     "output_type": "execute_result"
    },
    {
     "data": {
      "image/png": "[encoded data removed]",
      "text/plain": [
       "<matplotlib.figure.Figure at 0x2ac208258358>"
      ]
     },
     "metadata": {},
     "output_type": "display_data"
    }
   ],
   "source": [
    "q_src = ricker(fc, nt, dt)\n",
    "\n",
    "wav = RickerWavelet(t, fc=fc, delay=0.05)\n",
    "src = PointSource(src_loc, wav, 'q')\n",
    "\n",
    "plt.plot(t, wav.wavelet)"
   ]
  },
  {
   "cell_type": "code",
   "execution_count": 7,
   "metadata": {},
   "outputs": [
    {
     "data": {
      "text/plain": [
       "1"
      ]
     },
     "execution_count": 7,
     "metadata": {},
     "output_type": "execute_result"
    }
   ],
   "source": [
    "model.n[1]"
   ]
  },
  {
   "cell_type": "markdown",
   "metadata": {},
   "source": [
    "## Receivers"
   ]
  },
  {
   "cell_type": "code",
   "execution_count": 8,
   "metadata": {
    "collapsed": true
   },
   "outputs": [],
   "source": [
    "# Number of disjoint subdomains\n",
    "nsub = 1\n",
    "semt_origins = np.ndarray((nsub, 4), dtype=np.uint)\n",
    "srec_origins = np.ndarray((nsub, 4), dtype=np.uint)\n",
    "\n",
    "# order: xemt1 xemt2 zemt1 zemt2\n",
    "#semt_origins[0,:] = (40,  80,  40,  60)\n",
    "#semt_origins[1,:] = (120, 160,  10,  30)\n",
    "# order: xemt zemt nxemt nzemt\n",
    "semt_origins[0,:] = (0,  35,  nx,  nz-35)\n",
    "\n",
    "# number of gridpoints between recording and emitting surface\n",
    "ngpts = 2\n",
    "\n",
    "srec_origins = semt_origins + np.array((0, ngpts, 0, 0), dtype=np.uint)\n",
    "\n",
    "# Locations\n",
    "locations = []\n",
    "for i in range(nsub):\n",
    "    locations = locations + oneface(faces=(2,), origin=(semt_origins[i][0], 0, semt_origins[i][1]),\n",
    "          number_of_cells=(semt_origins[i][2], 0, semt_origins[i][3]),\n",
    "          cell_size=(1,1,1)\n",
    "          )\n",
    "semt_locs = np.array(locations, dtype=np.uint)\n",
    "\n",
    "locations = []\n",
    "for i in range(nsub):\n",
    "    locations = locations + oneface(faces=(2,), origin=(srec_origins[i][0], 0, srec_origins[i][1]),\n",
    "          number_of_cells=(srec_origins[i][2], 0, srec_origins[i][3]),\n",
    "          cell_size=(1,1,1)\n",
    "          )\n",
    "srec_locs = np.array(locations, dtype=np.uint)\n",
    "\n",
    "nemt = semt_locs.shape[0]\n",
    "nrec = srec_locs.shape[0]"
   ]
  },
  {
   "cell_type": "code",
   "execution_count": 9,
   "metadata": {},
   "outputs": [
    {
     "data": {
      "text/plain": [
       "(201, 4)"
      ]
     },
     "execution_count": 9,
     "metadata": {},
     "output_type": "execute_result"
    }
   ],
   "source": [
    "semt_locs.shape"
   ]
  },
  {
   "cell_type": "markdown",
   "metadata": {},
   "source": [
    "## HPC parameters"
   ]
  },
  {
   "cell_type": "code",
   "execution_count": 10,
   "metadata": {
    "collapsed": true
   },
   "outputs": [],
   "source": [
    "hpc = BaseHpc(omp_num_threads=2)"
   ]
  },
  {
   "cell_type": "markdown",
   "metadata": {},
   "source": [
    "## Run simulation"
   ]
  },
  {
   "cell_type": "code",
   "execution_count": 11,
   "metadata": {},
   "outputs": [
    {
     "name": "stdout",
     "output_type": "stream",
     "text": [
      "The outputs are: {'slice': [0], 'sub_volume_boundary': [1, 2], 'shot_gather': []}\n",
      "After: <class 'serendipyty.seismic.modelling.awe2d._memoryviewslice'>\n"
     ]
    }
   ],
   "source": [
    "outparam = []\n",
    "outparam.append({'type': 'slice',\n",
    "                 'timestep_increment': 10\n",
    "                })\n",
    "outparam.append({'type': 'sub_volume_boundary',\n",
    "                'attribute': 'p',\n",
    "                'receiver_locations': semt_locs,\n",
    "                'stagger_on_sub_volume': True,\n",
    "                'timestep_increment': 1\n",
    "                })\n",
    "outparam.append({'type': 'sub_volume_boundary',\n",
    "                'attribute': 'vn',\n",
    "                'receiver_locations': semt_locs,\n",
    "                'stagger_on_sub_volume': True,\n",
    "                'timestep_increment': 1\n",
    "                })\n",
    "\n",
    "outputs = [None] * len(outparam)\n",
    "#outputs = awe2d.calc_full(vp,rho,dx,src_loc,q_src,fc,dt,'q',outparam,pml=4,npml=20,num_threads=12)\n",
    "outputs = awe2d.forward(model,src,outparam,bc,hpc)"
   ]
  },
  {
   "cell_type": "code",
   "execution_count": 12,
   "metadata": {},
   "outputs": [
    {
     "data": {
      "text/plain": [
       "dict"
      ]
     },
     "execution_count": 12,
     "metadata": {},
     "output_type": "execute_result"
    }
   ],
   "source": [
    "type(outputs)"
   ]
  },
  {
   "cell_type": "markdown",
   "metadata": {},
   "source": [
    "## Plot snapshot"
   ]
  },
  {
   "cell_type": "code",
   "execution_count": 13,
   "metadata": {},
   "outputs": [
    {
     "data": {
      "image/png": "[encoded data removed]",
      "text/plain": [
       "<matplotlib.figure.Figure at 0x2ac208258668>"
      ]
     },
     "metadata": {},
     "output_type": "display_data"
    }
   ],
   "source": [
    "vmin, vmax = (-5e3, 5e3)\n",
    "\n",
    "it = 20\n",
    "snap = outputs['slice'][0, it, ...]\n",
    "\n",
    "fig = plt.figure(facecolor='w', edgecolor='k')\n",
    "gs = gridspec.GridSpec(1, 2)\n",
    "gs.update(wspace=0.02)\n",
    "\n",
    "ax0 = fig.add_subplot(gs[0, 0])\n",
    "im0 = ax0.imshow(snap.T, cmap='seismic', vmin=vmin, vmax=vmax, interpolation='none', extent=[0, x[-1], z[-1], 0], aspect=1)\n",
    "ax0.set_xlabel('Horizontal location [m]')\n",
    "ax0.set_ylabel('Depth [m]')\n",
    "ax0.set_xticks(ax0.get_xticks()[:4:])\n",
    "ax0.set_yticks(ax0.get_yticks()[::2])\n",
    "ax0.text(40, 460, 'e)')\n",
    "\n",
    "ax0.annotate('artefacts', xy=(600, 220), xytext=(500, 430),\n",
    "            arrowprops=dict(facecolor='black', shrink=0.05))\n",
    "\n",
    "gs.tight_layout(fig)"
   ]
  },
  {
   "cell_type": "code",
   "execution_count": 14,
   "metadata": {},
   "outputs": [
    {
     "name": "stdout",
     "output_type": "stream",
     "text": [
      "Current size: [10.0, 8.0]\n"
     ]
    }
   ],
   "source": [
    "# Get current size\n",
    "fig_size = plt.rcParams[\"figure.figsize\"]\n",
    " \n",
    "# Prints: [8.0, 6.0]\n",
    "print(\"Current size:\", fig_size)"
   ]
  },
  {
   "cell_type": "code",
   "execution_count": 15,
   "metadata": {},
   "outputs": [
    {
     "name": "stdout",
     "output_type": "stream",
     "text": [
      "Object `awe2d.calc_full` not found.\n"
     ]
    }
   ],
   "source": [
    "awe2d.calc_full?"
   ]
  },
  {
   "cell_type": "code",
   "execution_count": 16,
   "metadata": {},
   "outputs": [
    {
     "ename": "NameError",
     "evalue": "name 'q_src2' is not defined",
     "output_type": "error",
     "traceback": [
      "\u001b[0;31m---------------------------------------------------------------------------\u001b[0m",
      "\u001b[0;31mNameError\u001b[0m                                 Traceback (most recent call last)",
      "\u001b[0;32m<ipython-input-16-10e489e5d9d2>\u001b[0m in \u001b[0;36m<module>\u001b[0;34m()\u001b[0m\n\u001b[0;32m----> 1\u001b[0;31m \u001b[0mq_src2\u001b[0m\u001b[0;34m.\u001b[0m\u001b[0mloc\u001b[0m\u001b[0;34m\u001b[0m\u001b[0m\n\u001b[0m",
      "\u001b[0;31mNameError\u001b[0m: name 'q_src2' is not defined"
     ]
    }
   ],
   "source": [
    "q_src2.loc"
   ]
  },
  {
   "cell_type": "code",
   "execution_count": null,
   "metadata": {
    "collapsed": true
   },
   "outputs": [],
   "source": []
  }
 ],
 "metadata": {
  "kernelspec": {
   "display_name": "Python 3",
   "language": "python",
   "name": "python3"
  },
  "language_info": {
   "codemirror_mode": {
    "name": "ipython",
    "version": 3
   },
   "file_extension": ".py",
   "mimetype": "text/x-python",
   "name": "python",
   "nbconvert_exporter": "python",
   "pygments_lexer": "ipython3",
   "version": "3.6.2"
  }
 },
 "nbformat": 4,
 "nbformat_minor": 2
}
